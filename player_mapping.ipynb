{
 "cells": [
  {
   "cell_type": "code",
   "execution_count": null,
   "metadata": {},
   "outputs": [],
   "source": [
    "import pandas as pd\n",
    "import csv\n",
    "# Assuming df is your dataframe containing the player information\n",
    "csv_file = 'E:\\Major Project 2\\IPL Player Performance Prediction\\Final Players data.csv'\n",
    "\n",
    "# Read the CSV file into a DataFrame\n",
    "final_data = pd.read_csv(csv_file)\n",
    "final_data"
   ]
  },
  {
   "cell_type": "code",
   "execution_count": 3,
   "metadata": {},
   "outputs": [
    {
     "name": "stdout",
     "output_type": "stream",
     "text": [
      "Required player information has been exported to required_player_info.csv.\n"
     ]
    }
   ],
   "source": [
    "import pandas as pd\n",
    "\n",
    "# Assuming final_data is your DataFrame containing player information\n",
    "\n",
    "# Extracting required columns\n",
    "required_columns = ['Player', 'Role', 'Team ID', 'Players_Link', 'Credit']\n",
    "required_data = final_data[required_columns]\n",
    "\n",
    "# Exporting the required data to a new CSV file\n",
    "output_csv_file = 'required_player_info.csv'\n",
    "required_data.to_csv(output_csv_file, index=False)\n",
    "\n",
    "print(f\"Required player information has been exported to {output_csv_file}.\")\n"
   ]
  },
  {
   "cell_type": "code",
   "execution_count": 20,
   "metadata": {},
   "outputs": [
    {
     "name": "stdout",
     "output_type": "stream",
     "text": [
      "Merged player data has been exported to merged_player_data.csv.\n"
     ]
    }
   ],
   "source": [
    "import pandas as pd\n",
    "\n",
    "# Read the required player information CSV\n",
    "required_player_csv = 'required_player_info.csv'\n",
    "required_player_data = pd.read_csv(required_player_csv)\n",
    "\n",
    "# Read the CSV containing player performance data\n",
    "player_performance_csv = 'Final Players Data2.csv'\n",
    "player_performance_data = pd.read_csv(player_performance_csv)\n",
    "\n",
    "# Merge the two dataframes based on the player name\n",
    "merged_data = pd.merge(player_performance_data, required_player_data, on='Player', how='left')\n",
    "\n",
    "#  Drop unnamed columns\n",
    "merged_data = merged_data.loc[:, ~merged_data.columns.str.contains('^Unnamed')]\n",
    "\n",
    "# Export the merged data to a new CSV file\n",
    "output_csv_file = 'merged_player_data.csv'\n",
    "merged_data.to_csv(output_csv_file, index=False)\n",
    "merged_data\n",
    "print(f\"Merged player data has been exported to {output_csv_file}.\")\n"
   ]
  },
  {
   "cell_type": "code",
   "execution_count": 27,
   "metadata": {},
   "outputs": [],
   "source": [
    "# Read the required player information CSV\n",
    "output_csv_file = 'merged_player_data.csv'\n",
    "output_csv_data = pd.read_csv(output_csv_file)\n",
    "\n",
    "# Rearrange columns\n",
    "columns_order = ['Player', 'Role', 'Team ID', 'Credit', 'Players_Link'] + [col for col in output_csv_data.columns if col not in ['Player', 'Role', 'Team ID', 'Credit', 'Players_Link']]\n",
    "output_csv_data = output_csv_data[columns_order]\n",
    "\n",
    "# Drop duplicate columns\n",
    "# output_csv_data = output_csv_data.drop(['Role', 'Team ID', 'Credit', 'Players_Link'], axis=1)\n",
    "\n",
    "# Drop rows where 'Player' column has the value 'Player'\n",
    "output_csv_data = output_csv_data[output_csv_data['Player'] != 'Player']\n",
    "\n",
    "output_csv_data\n",
    "\n",
    "# Export the modified DataFrame to a new CSV file\n",
    "output_csv_data.to_csv('cleaned_final_data.csv', index=False)\n",
    "\n"
   ]
  },
  {
   "cell_type": "code",
   "execution_count": null,
   "metadata": {},
   "outputs": [],
   "source": []
  }
 ],
 "metadata": {
  "kernelspec": {
   "display_name": "Python 3",
   "language": "python",
   "name": "python3"
  },
  "language_info": {
   "codemirror_mode": {
    "name": "ipython",
    "version": 3
   },
   "file_extension": ".py",
   "mimetype": "text/x-python",
   "name": "python",
   "nbconvert_exporter": "python",
   "pygments_lexer": "ipython3",
   "version": "3.10.5"
  }
 },
 "nbformat": 4,
 "nbformat_minor": 2
}
